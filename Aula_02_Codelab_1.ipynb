{
  "nbformat": 4,
  "nbformat_minor": 0,
  "metadata": {
    "colab": {
      "name": "Aula_02_Codelab_1.ipynb",
      "provenance": [],
      "collapsed_sections": [],
      "include_colab_link": true
    },
    "kernelspec": {
      "name": "python3",
      "display_name": "Python 3"
    },
    "language_info": {
      "name": "python"
    }
  },
  "cells": [
    {
      "cell_type": "markdown",
      "metadata": {
        "id": "view-in-github",
        "colab_type": "text"
      },
      "source": [
        "<a href=\"https://colab.research.google.com/github/renanabintes/exercicios-python/blob/main/Aula_02_Codelab_1.ipynb\" target=\"_parent\"><img src=\"https://colab.research.google.com/assets/colab-badge.svg\" alt=\"Open In Colab\"/></a>"
      ]
    },
    {
      "cell_type": "markdown",
      "metadata": {
        "id": "n_igYcmdk6U9"
      },
      "source": [
        "# **Exercícios para treinar:**"
      ]
    },
    {
      "cell_type": "markdown",
      "metadata": {
        "id": "rRyZR6ZAlEHU"
      },
      "source": [
        "1. **Frase na tela** - Implemente um programa que escreve na tela a frase \"O primeiro programa a gente nunca esquece!\".\n",
        "\n",
        "2. **Etiqueta** - Elabore um programa que escreve seu nome completo na primeira linha, seu endereço na segunda e o CEP e telefone na terceira.\n",
        "\n",
        "3. **Letra de música** - Faça um programa que mostre na tela uma letra de música que você gosta (proibido letras do Justin Bieber).\n",
        "\n",
        "4. **Tabela de notas** - Você foi contratado ou contratada por uma escola pra fazer o sistema de boletim dos alunos. Como primeiro passo, escreva um programa que produza a seguinte saída:\n",
        "```\n",
        "ALUNO (A)  NOTA\n",
        "=========  ====\n",
        "ALINE      9.0\n",
        "MÁRIO      DEZ\n",
        "SÉRGIO     4.5\n",
        "SHIRLEY    7.0\n",
        "```\n",
        "\n",
        "5. **Menu** - Elabore um programa que mostre o seguinte menu na tela:\n",
        "```\n",
        "Cadastro de Clientes\n",
        "0 - Fim\n",
        "1 - Inclui\n",
        "2 - Altera\n",
        "3 - Exclui\n",
        "4 - Consulta\n",
        "Digite uma opção: \n",
        "```\n",
        "Ao digitar um valor para a opção, o programa exibe qual opção foi escolhida.\n",
        "```\n",
        "Você escolheu a opção '0'.\n",
        "```\n",
        "\n",
        "6. **Calculadora de Dano** - Escreva um programa que receba dois valores digitados pelo usuário:\n",
        "  - Quantidade de vida de um monstro (entre 10 e 50);\n",
        "  - Valor do ataque do jogador por turno (entre 5 e 10);\n",
        "  - Baseado nos valores digitados, exiba a quantidade de turnos que o jogador irá demorar para conseguir derrotar o monstro.\n",
        "  - ```\n",
        "    O jogador irá derrotar o monstro em 8 turnos.\n",
        "    ```"
      ]
    },
    {
      "cell_type": "code",
      "metadata": {
        "colab": {
          "base_uri": "https://localhost:8080/"
        },
        "id": "q-i2XEJBAU7H",
        "outputId": "16b8a6a3-ea64-419e-8e97-839282be263d"
      },
      "source": [
        "print(\"O primeiro programa a gente nunca esquece\")"
      ],
      "execution_count": null,
      "outputs": [
        {
          "output_type": "stream",
          "text": [
            "O primeiro programa a gente nunca esquece\n"
          ],
          "name": "stdout"
        }
      ]
    },
    {
      "cell_type": "code",
      "metadata": {
        "colab": {
          "base_uri": "https://localhost:8080/"
        },
        "id": "9zx2dgLfAr0b",
        "outputId": "687d5737-1e69-41ac-981d-2037789c3202"
      },
      "source": [
        "print('Renan Cardoso Abintes\\nRua Isaura Pires\\n62850-000')"
      ],
      "execution_count": null,
      "outputs": [
        {
          "output_type": "stream",
          "text": [
            "Renan Cardoso Abintes\n",
            "Rua Isaura Pires\n",
            "62850-000\n"
          ],
          "name": "stdout"
        }
      ]
    },
    {
      "cell_type": "code",
      "metadata": {
        "colab": {
          "base_uri": "https://localhost:8080/"
        },
        "id": "2OM-7spBBRYb",
        "outputId": "05f09ec6-a7fd-4a86-dc7d-5a11b1f80509"
      },
      "source": [
        "print('''Canto minha vida com orgulho\n",
        "\n",
        "Na minha vida nem tudo acontece\n",
        "Mas quanto mais a gente rala, mais a gente cresce\n",
        "Hoje estou feliz porque eu sonhei com você\n",
        "E amanhã posso chorar por não poder te ver mais\n",
        "\n",
        "O seu sorriso vale mais que um diamante\n",
        "Se você vier comigo, aí nóis vamo adiante\n",
        "Com a cabeça erguida e mantendo a fé em Deus\n",
        "O seu dia mais feliz vai ser o mesmo que o meu\n",
        "\n",
        "A vida me ensinou a nunca desistir\n",
        "Nem ganhar, nem perder, mas procurar evoluir\n",
        "Podem me tirar tudo que tenho\n",
        "Só não podem me tirar as coisas boas\n",
        "Que eu já fiz pra quem eu amo\n",
        "E eu sou feliz e canto\n",
        "O universo é uma canção\n",
        "E eu vou que vou\n",
        "\n",
        "História, nossas histórias\n",
        "Dias de luta, dias de glória\n",
        "Histórias, nossas histórias\n",
        "Dias de luta, dias de glória\n",
        "\n",
        "Histórias, nossas histórias\n",
        "Dias de luta, dias de glória\n",
        "História, nossas histórias\n",
        "Dias de luta, dias de glória\n",
        "\n",
        "Oh, minha gata, morada dos meus sonhos\n",
        "Todo dia, se eu pudesse, eu ia estar com você\n",
        "Eu já te via muito antes nos meus sonhos\n",
        "Eu procurei a vida inteira por alguém como você\n",
        "\n",
        "Por isso eu canto minha vida com orgulho\n",
        "Com melodia, alegria e barulho\n",
        "Eu sou feliz e rodo pelo mundo\n",
        "Sou correria, mas também sou vagabundo\n",
        "\n",
        "Mas hoje dou valor de verdade\n",
        "Pra minha saúde e pra minha liberdade\n",
        "Que bom te encontrar nessa cidade\n",
        "Esse brilho intenso me lembra você\n",
        "\n",
        "História, nossas histórias\n",
        "Dias de luta, dias de glória\n",
        "Histórias, nossas histórias\n",
        "Dias de luta, dias de glória\n",
        "\n",
        "Histórias, nossas histórias\n",
        "Dias de luta, dias de glória\n",
        "História, nossas histórias\n",
        "Dias de luta, dias de glória\n",
        "\n",
        "Hoje estou feliz\n",
        "Acordei com o pé direito\n",
        "E eu vou fazer de novo\n",
        "E vou fazer muito bem feito\n",
        "\n",
        "Sintonia\n",
        "Telepatia\n",
        "Comunicação pelo córtex\n",
        "Boom\n",
        "Bye, bye''')"
      ],
      "execution_count": null,
      "outputs": [
        {
          "output_type": "stream",
          "text": [
            "Canto minha vida com orgulho\n",
            "\n",
            "Na minha vida nem tudo acontece\n",
            "Mas quanto mais a gente rala, mais a gente cresce\n",
            "Hoje estou feliz porque eu sonhei com você\n",
            "E amanhã posso chorar por não poder te ver mais\n",
            "\n",
            "O seu sorriso vale mais que um diamante\n",
            "Se você vier comigo, aí nóis vamo adiante\n",
            "Com a cabeça erguida e mantendo a fé em Deus\n",
            "O seu dia mais feliz vai ser o mesmo que o meu\n",
            "\n",
            "A vida me ensinou a nunca desistir\n",
            "Nem ganhar, nem perder, mas procurar evoluir\n",
            "Podem me tirar tudo que tenho\n",
            "Só não podem me tirar as coisas boas\n",
            "Que eu já fiz pra quem eu amo\n",
            "E eu sou feliz e canto\n",
            "O universo é uma canção\n",
            "E eu vou que vou\n",
            "\n",
            "História, nossas histórias\n",
            "Dias de luta, dias de glória\n",
            "Histórias, nossas histórias\n",
            "Dias de luta, dias de glória\n",
            "\n",
            "Histórias, nossas histórias\n",
            "Dias de luta, dias de glória\n",
            "História, nossas histórias\n",
            "Dias de luta, dias de glória\n",
            "\n",
            "Oh, minha gata, morada dos meus sonhos\n",
            "Todo dia, se eu pudesse, eu ia estar com você\n",
            "Eu já te via muito antes nos meus sonhos\n",
            "Eu procurei a vida inteira por alguém como você\n",
            "\n",
            "Por isso eu canto minha vida com orgulho\n",
            "Com melodia, alegria e barulho\n",
            "Eu sou feliz e rodo pelo mundo\n",
            "Sou correria, mas também sou vagabundo\n",
            "\n",
            "Mas hoje dou valor de verdade\n",
            "Pra minha saúde e pra minha liberdade\n",
            "Que bom te encontrar nessa cidade\n",
            "Esse brilho intenso me lembra você\n",
            "\n",
            "História, nossas histórias\n",
            "Dias de luta, dias de glória\n",
            "Histórias, nossas histórias\n",
            "Dias de luta, dias de glória\n",
            "\n",
            "Histórias, nossas histórias\n",
            "Dias de luta, dias de glória\n",
            "História, nossas histórias\n",
            "Dias de luta, dias de glória\n",
            "\n",
            "Hoje estou feliz\n",
            "Acordei com o pé direito\n",
            "E eu vou fazer de novo\n",
            "E vou fazer muito bem feito\n",
            "\n",
            "Sintonia\n",
            "Telepatia\n",
            "Comunicação pelo córtex\n",
            "Boom\n",
            "Bye, bye\n"
          ],
          "name": "stdout"
        }
      ]
    },
    {
      "cell_type": "code",
      "metadata": {
        "colab": {
          "base_uri": "https://localhost:8080/"
        },
        "id": "Bi8HW_rTB6_Z",
        "outputId": "e46e044d-20ff-4b7f-d9dc-c9ff8b9d8b1e"
      },
      "source": [
        "print(\"ALUNO (A)  NOTA\")\n",
        "print(\"=========  ====\")\n",
        "print(\"ALINE      9.0\")\n",
        "print(\"MÁRIO      DEZ\")\n",
        "print(\"SÉRGIO     4.5\")\n",
        "print(\"SHIRLEY    7.0\")"
      ],
      "execution_count": null,
      "outputs": [
        {
          "output_type": "stream",
          "text": [
            "ALUNO (A)  NOTA\n",
            "=========  ====\n",
            "ALINE      9.0\n",
            "MÁRIO      DEZ\n",
            "SÉRGIO     4.5\n",
            "SHIRLEY    7.0\n"
          ],
          "name": "stdout"
        }
      ]
    },
    {
      "cell_type": "code",
      "metadata": {
        "id": "cmhW0u0_CeKS",
        "colab": {
          "base_uri": "https://localhost:8080/"
        },
        "outputId": "31038391-0f00-4359-81b9-e32bcc504635"
      },
      "source": [
        "menu = input(\"Cadastro de Clientes\\n0 - Fim\\n1 - Inclui\\n2 - Altera\\n3 - Exclui\\n4 - Consulta\\nDigite uma opção: \")\n",
        "\n",
        "print(f\"Você escolheu a opção '{menu}'\")\n"
      ],
      "execution_count": null,
      "outputs": [
        {
          "output_type": "stream",
          "text": [
            "Cadastro de Clientes\n",
            "0 - Fim\n",
            "1 - Inclui\n",
            "2 - Altera\n",
            "3 - Exclui\n",
            "4 - Consulta\n",
            "Digite uma opção: 0\n",
            "Você escolheu a opção '0'\n"
          ],
          "name": "stdout"
        }
      ]
    },
    {
      "cell_type": "code",
      "metadata": {
        "colab": {
          "base_uri": "https://localhost:8080/"
        },
        "id": "4aYAJb2rEZwY",
        "outputId": "e4a26ca0-d867-4230-959f-7df02e63b056"
      },
      "source": [
        "vida_monstro = int(input(\"Quantidade de vida de um monstro (entre 10 e 50): \"))\n",
        "valor_ataque = int(input(\"Valor do ataque do jogador por turno (entre 5 e 10): \"))\n",
        "turnos = int(vida_monstro / valor_ataque)\n",
        "\n",
        "print(f'O jogador irá derrotar o monstro em {turnos} turnos.')"
      ],
      "execution_count": null,
      "outputs": [
        {
          "output_type": "stream",
          "text": [
            "Quantidade de vida de um monstro (entre 10 e 50): 40\n",
            "Valor do ataque do jogador por turno (entre 5 e 10): 5\n",
            "O jogador irá derrotar o monstro em 8 turnos.\n"
          ],
          "name": "stdout"
        }
      ]
    },
    {
      "cell_type": "markdown",
      "metadata": {
        "id": "HqgnPaCGqMPB"
      },
      "source": [
        "# Exercícios"
      ]
    },
    {
      "cell_type": "markdown",
      "metadata": {
        "id": "U-ltrv0jqPBq"
      },
      "source": [
        "## #01 - E os 10% do garçom?**\n",
        "\n",
        "- Defina uma variável para o valor de uma refeição que custou R$ 42,54;\n",
        "\n",
        "- Defina uma variável para o valor da taxa de serviço que é de 10%;\n",
        "\n",
        "- Defina uma variável que calcula o valor total da conta e exiba-o no console com essa formatação: R$ XXXX.XX."
      ]
    },
    {
      "cell_type": "code",
      "metadata": {
        "id": "jbcSv4NFkB1C",
        "colab": {
          "base_uri": "https://localhost:8080/"
        },
        "outputId": "22e49612-9f11-4ea5-eb40-44d42be89c18"
      },
      "source": [
        "refeição = 42.54\n",
        "taxa = 42.54*10/100\n",
        "total = refeição + taxa\n",
        "\n",
        "print(f'R${total: .2f}')"
      ],
      "execution_count": null,
      "outputs": [
        {
          "output_type": "stream",
          "text": [
            "R$ 46.79\n"
          ],
          "name": "stdout"
        }
      ]
    },
    {
      "cell_type": "markdown",
      "metadata": {
        "id": "JR3-KgsTqR41"
      },
      "source": [
        "## #02 - Qual o valor do troco?\n",
        "\n",
        "*   Defina uma variável para o valor de uma compra que custou R$100,98;\n",
        "\n",
        "*   Defina uma variável para o valor que o cliente pagou R$150,00;\n",
        "\n",
        "*   Defina uma variável que calcula o valor do troco e exiba-o no console com o valor final arredondado."
      ]
    },
    {
      "cell_type": "code",
      "metadata": {
        "id": "hBf3kE_pksAI",
        "colab": {
          "base_uri": "https://localhost:8080/"
        },
        "outputId": "d592974d-5224-4b70-e306-405a405df00e"
      },
      "source": [
        "compra = 100.98\n",
        "pagamento = 150.00\n",
        "troco = pagamento - compra\n",
        "\n",
        "print(f'R${troco: .0f}')"
      ],
      "execution_count": null,
      "outputs": [
        {
          "output_type": "stream",
          "text": [
            "R$ 49\n"
          ],
          "name": "stdout"
        }
      ]
    },
    {
      "cell_type": "markdown",
      "metadata": {
        "id": "2Uu84Uqtkunt"
      },
      "source": [
        "## #03 - Você está na flor da idade?\n",
        "\n",
        "*  Defina uma variável para o valor do ano do nascimento;\n",
        "*  Defina uma variável para o valor do ano atual;\n",
        "*  Defina uma variável que calcula o valor final da idade da pessoa;\n",
        "*  Exiba uma mensagem final dizendo a idade da pessoa e a mensagem \"Você está na flor da idade\"."
      ]
    },
    {
      "cell_type": "code",
      "metadata": {
        "id": "kyXxJV3nk14Z",
        "colab": {
          "base_uri": "https://localhost:8080/"
        },
        "outputId": "f60ff676-885c-48e6-b05f-93d623b5806a"
      },
      "source": [
        "nascimento = 2000\n",
        "atual = 2021\n",
        "idade = atual - nascimento\n",
        "\n",
        "print(f'{idade}\"Você está na flor da idade\"')"
      ],
      "execution_count": null,
      "outputs": [
        {
          "output_type": "stream",
          "text": [
            "21\"Você está na flor da idade\"\n"
          ],
          "name": "stdout"
        }
      ]
    },
    {
      "cell_type": "markdown",
      "metadata": {
        "id": "w1T7s2q0p-pt"
      },
      "source": [
        "# Mini projetos"
      ]
    },
    {
      "cell_type": "markdown",
      "metadata": {
        "id": "meUw7PTwqC-Y"
      },
      "source": [
        "## #01 - Conversor de moedas\n",
        "\n",
        "Crie um programa que solicite um um valor em real ao usuário e converta esse valor, para:\n",
        "\n",
        "- DOLAR,\n",
        "- EURO,\n",
        "- LIBRA ESTERLINA,\n",
        "- DÓLAR CANADENSE,\n",
        "- PESO ARGENTINO,\n",
        "- PESO CHILENO.\n",
        "\n",
        "Para esse exercício você precisará realizar uma pesquisa para saber a cotação de cada moeda em real. Mostrar o resultado no formato $ XXXX.XX"
      ]
    },
    {
      "cell_type": "code",
      "metadata": {
        "id": "q481snSClrXe",
        "colab": {
          "base_uri": "https://localhost:8080/"
        },
        "outputId": "821afa1e-cd79-411e-ecda-43b9f4327f94"
      },
      "source": [
        "vreal = float(input(\"Informe o valor desejado em Reis  \"))\n",
        "\n",
        "print(\"Moeda           Valor\\n\"\n",
        "f\"=========            ====\\n\"\n",
        "f\"Real                 BRL ${vreal:.2f}\\n\"\n",
        "f\"Dolar                USD ${(vreal/5.04):.2f}\\n\"\n",
        "f\"Libra Esterlina      EUR ${(vreal/7.13):.2f}\\n\"\n",
        "f\"Dolar Canadense      CAD ${(vreal/4.16):.2f}\\n\"\n",
        "f\"Peso Argentino       ARS ${(vreal/0.053):.2f}\\n\"\n",
        "f\"Peso Chileno         CLP ${(vreal/0.0070):.2f}\\n\")\n",
        "\n",
        "\n"
      ],
      "execution_count": null,
      "outputs": [
        {
          "output_type": "stream",
          "text": [
            "Informe o valor desejado em Reis  100\n",
            "Moeda           Valor\n",
            "=========            ====\n",
            "Real                 BRL $100.00\n",
            "Dolar                USD $19.84\n",
            "Libra Esterlina      EUR $14.03\n",
            "Dolar Canadense      CAD $24.04\n",
            "Peso Argentino       ARS $1886.79\n",
            "Peso Chileno         CLP $14285.71\n",
            "\n"
          ],
          "name": "stdout"
        }
      ]
    },
    {
      "cell_type": "markdown",
      "metadata": {
        "id": "KK9PIcJ4qIF9"
      },
      "source": [
        "## #02 - Calculadora de aumento de aluguel\n",
        "\n",
        "Vamos construir um programa que irá calcular o aumento anual do seu aluguel em duas partes:\n",
        "\n",
        "### Parte 1\n",
        "A sua calculadora vai receber o `valor do aluguel` e calcular o aumento baseado no `IGPM de 31%`. A calculadora deve apresentar o aluguel reajustado no formato `R$ XXXX.XX`\n",
        "\n",
        "**Exemplo:**\n",
        "```\n",
        "Valor do aluguel = 1000\n",
        "Valor do aluguel reajustado = R$ 1310,00"
      ]
    },
    {
      "cell_type": "code",
      "metadata": {
        "id": "VdjHa9Csl0Lg"
      },
      "source": [
        "valor_aluguel = float(input('Digite ovalor do aluguel: '))\n",
        "igpm = valor_aluguel + 31/100\n",
        "reajuste = "
      ],
      "execution_count": null,
      "outputs": []
    },
    {
      "cell_type": "markdown",
      "metadata": {
        "id": "lKTwnuNMl8rP"
      },
      "source": [
        "### Parte 2\n",
        "Agora, altere sua calculadora para receber além do `valor do aluguel`, o percentual do reajuste no formato `XX%`.  \n",
        "\n",
        "**Dica:** Descubra uma forma de transformar o percentual recebido em um número para efetuar o cálculo.\n",
        "\n",
        "**Exemplo:**\n",
        "```\n",
        "Valor do aluguel = 1000\n",
        "Percentual do reajuste = 31%\n",
        "Valor do aluguel reajustado = R% 1310,00\n",
        "```"
      ]
    },
    {
      "cell_type": "code",
      "metadata": {
        "id": "aw2Zk_9KmA85"
      },
      "source": [
        ""
      ],
      "execution_count": null,
      "outputs": []
    }
  ]
}