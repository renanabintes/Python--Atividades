{
  "nbformat": 4,
  "nbformat_minor": 0,
  "metadata": {
    "colab": {
      "name": "Projeto 01 - Detetive.ipynb",
      "provenance": [],
      "authorship_tag": "ABX9TyOeCdfP3vjJLX/jGcf4P4xx",
      "include_colab_link": true
    },
    "kernelspec": {
      "name": "python3",
      "display_name": "Python 3"
    },
    "language_info": {
      "name": "python"
    }
  },
  "cells": [
    {
      "cell_type": "markdown",
      "metadata": {
        "id": "view-in-github",
        "colab_type": "text"
      },
      "source": [
        "<a href=\"https://colab.research.google.com/github/renanabintes/exercicios-python/blob/main/Projeto_01_Detetive.ipynb\" target=\"_parent\"><img src=\"https://colab.research.google.com/assets/colab-badge.svg\" alt=\"Open In Colab\"/></a>"
      ]
    },
    {
      "cell_type": "code",
      "metadata": {
        "colab": {
          "base_uri": "https://localhost:8080/"
        },
        "id": "zsBiLYXUIYkE",
        "outputId": "b5b4ce6c-be4f-459d-9786-58d406e52ae8"
      },
      "source": [
        "resp = 0\n",
        "p1 = str(input(\"Você telefonou para a vítima? (Sim ou Não)\").strip().lower())\n",
        "if p1 == 'sim':\n",
        "  resp += 1\n",
        "\n",
        "\n",
        "p2 = str(input(\"Você esteve no local do crime? (Sim ou Não)\").strip().lower())\n",
        "if p2 == 'sim':\n",
        "  resp += 1\n",
        "\n",
        "\n",
        "p3 = str(input(\"Você mora perto da vítima? (Sim ou Não)\").strip().lower())\n",
        "if p3 == 'sim':\n",
        "  resp += 1\n",
        "\n",
        "\n",
        "p4 = str(input(\"Você devia para a vítima? (Sim ou Não)\").strip().lower())\n",
        "if p4 == 'sim':\n",
        "  resp += 1\n",
        "\n",
        "\n",
        "p5 = str(input(\"Você já trabalhou com a vítima? (Sim ou Não)\").strip().lower())\n",
        "if p5 == 'sim':\n",
        "  resp += 1\n",
        "\n",
        "# resp = resposta\n",
        "# p = pergunta\n",
        "\n",
        "if resp == 2 :\n",
        "  print('\"Suspeita\"')\n",
        "elif resp == 3 or resp == 4:\n",
        "  print('\"Cúmplice\"')\n",
        "elif resp == 5:\n",
        "  print('\"Assassino\"')\n",
        "else:\n",
        "  print('\"Inocente\"')"
      ],
      "execution_count": null,
      "outputs": [
        {
          "output_type": "stream",
          "text": [
            "Você telefonou para a vítima? (Sim ou Não)sim\n",
            "Você esteve no local do crime? (Sim ou Não)sim\n",
            "Você mora perto da vítima? (Sim ou Não)sim\n",
            "Você devia para a vítima? (Sim ou Não)sim\n",
            "Você já trabalhou com a vítima? (Sim ou Não)sim\n",
            "\"Assassino\"\n"
          ],
          "name": "stdout"
        }
      ]
    }
  ]
}